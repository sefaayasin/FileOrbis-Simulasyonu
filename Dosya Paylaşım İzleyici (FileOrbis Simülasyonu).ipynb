{
 "cells": [
  {
   "cell_type": "markdown",
   "id": "682f7b04-df0a-4378-981b-dbddfd13d0f5",
   "metadata": {},
   "source": [
    "# 1. Gerekli Kütüphaneler"
   ]
  },
  {
   "cell_type": "code",
   "execution_count": 37,
   "id": "2bb874b7-5b5a-4994-a615-ffabdbac4aec",
   "metadata": {},
   "outputs": [],
   "source": [
    "import os\n",
    "import time\n",
    "import threading\n",
    "from datetime import datetime\n",
    "from tkinter import Tk, Label, Button, Text, Scrollbar, Entry, filedialog, messagebox, END, RIGHT, Y, BOTH\n",
    "from tkinter.filedialog import asksaveasfilename\n",
    "from watchdog.observers import Observer\n",
    "from watchdog.events import FileSystemEventHandler\n"
   ]
  },
  {
   "cell_type": "markdown",
   "id": "4c420459-0347-486f-982f-0d60a196e40c",
   "metadata": {},
   "source": [
    "# 2. Log Yazma Fonksiyonu"
   ]
  },
  {
   "cell_type": "code",
   "execution_count": 40,
   "id": "a18bdda2-640f-45be-96a9-4cd9704bf759",
   "metadata": {},
   "outputs": [],
   "source": [
    "def log_yaz(mesaj):\n",
    "    zaman = datetime.now().strftime(\"%Y-%m-%d %H:%M:%S\")\n",
    "    log = f\"[{zaman}] {mesaj}\"\n",
    "    text_area.insert(END, log + \"\\n\")\n",
    "    text_area.see(END)\n",
    "    with open(\"paylasim_log.txt\", \"a\", encoding=\"utf-8\") as f:\n",
    "        f.write(log + \"\\n\")\n"
   ]
  },
  {
   "cell_type": "markdown",
   "id": "2974127b-3379-417d-8791-1e8d218e839b",
   "metadata": {},
   "source": [
    "# 3. Dosya Olaylarını Takip Eden Handler Sınıfı (Filtreli)"
   ]
  },
  {
   "cell_type": "code",
   "execution_count": 43,
   "id": "b6838f9c-602e-4b69-88a5-55d840860849",
   "metadata": {},
   "outputs": [],
   "source": [
    "class DosyaHandler(FileSystemEventHandler):\n",
    "    def __init__(self, log_func, filtreli_uzantilar):\n",
    "        self.log_func = log_func\n",
    "        self.uzantilar = [u.strip().lower() for u in filtreli_uzantilar]\n",
    "\n",
    "    def kontrol_et(self, path):\n",
    "        return any(path.lower().endswith(f\".{u}\") for u in self.uzantilar)\n",
    "\n",
    "    def on_created(self, event):\n",
    "        if not event.is_directory and self.kontrol_et(event.src_path):\n",
    "            self.log_func(f\"🟢 Yeni dosya eklendi: {event.src_path}\")\n",
    "\n",
    "    def on_deleted(self, event):\n",
    "        if not event.is_directory and self.kontrol_et(event.src_path):\n",
    "            self.log_func(f\"🔴 Dosya silindi: {event.src_path}\")\n",
    "\n",
    "    def on_modified(self, event):\n",
    "        if not event.is_directory and self.kontrol_et(event.src_path):\n",
    "            self.log_func(f\"🟡 Dosya düzenlendi: {event.src_path}\")\n",
    "\n",
    "    def on_moved(self, event):\n",
    "        if not event.is_directory and self.kontrol_et(event.src_path):\n",
    "            self.log_func(f\"🔵 Dosya yeniden adlandırıldı: {event.src_path} → {event.dest_path}\")\n"
   ]
  },
  {
   "cell_type": "markdown",
   "id": "e50a50a0-00d0-4316-a4d8-7074af302b9c",
   "metadata": {},
   "source": [
    "# 4. Klasör Seçme Fonksiyonu"
   ]
  },
  {
   "cell_type": "code",
   "execution_count": 46,
   "id": "1b3cdfca-a432-4ab7-a242-8f03b4596a5e",
   "metadata": {},
   "outputs": [],
   "source": [
    "def klasor_sec():\n",
    "    global izlenen_klasor\n",
    "    izlenen_klasor = filedialog.askdirectory()\n",
    "    status_label.config(text=f\"İzlenen klasör: {izlenen_klasor}\")\n"
   ]
  },
  {
   "cell_type": "markdown",
   "id": "c7ffedde-60d3-4d40-b2d6-5443c82951d4",
   "metadata": {},
   "source": [
    "# 5. İzlemeyi Başlatma Fonksiyonu"
   ]
  },
  {
   "cell_type": "code",
   "execution_count": 49,
   "id": "97f9e239-e570-4f1f-bdff-a8077e708918",
   "metadata": {},
   "outputs": [],
   "source": [
    "def izlemeyi_baslat():\n",
    "    global observer\n",
    "    if not izlenen_klasor:\n",
    "        status_label.config(text=\"⚠️ Önce bir klasör seçin.\")\n",
    "        return\n",
    "\n",
    "    uzanti_str = uzanti_entry.get()\n",
    "    filtreler = uzanti_str.split(\",\") if uzanti_str else []\n",
    "\n",
    "    event_handler = DosyaHandler(log_yaz, filtreler)\n",
    "    observer = Observer()\n",
    "    observer.schedule(event_handler, izlenen_klasor, recursive=True)\n",
    "    observer.start()\n",
    "    status_label.config(text=\"✅ İzleme başlatıldı.\")\n"
   ]
  },
  {
   "cell_type": "markdown",
   "id": "78563d44-0aa8-4a65-ab47-3352d54f4aeb",
   "metadata": {},
   "source": [
    "# 6. İzlemeyi Durdurma Fonksiyonu"
   ]
  },
  {
   "cell_type": "code",
   "execution_count": 52,
   "id": "329e9372-1aaa-458c-9634-e12cbe158103",
   "metadata": {},
   "outputs": [],
   "source": [
    "def izlemeyi_durdur():\n",
    "    global observer\n",
    "    if observer:\n",
    "        observer.stop()\n",
    "        observer.join()\n",
    "        status_label.config(text=\"🛑 İzleme durduruldu.\")\n"
   ]
  },
  {
   "cell_type": "markdown",
   "id": "77511cfb-d0f6-41b3-8464-691204c4f16d",
   "metadata": {},
   "source": [
    "# 7. Logları Kaydetme Fonksiyonu"
   ]
  },
  {
   "cell_type": "code",
   "execution_count": 55,
   "id": "c97dad66-ad9c-48f7-b5ac-42ccc6696182",
   "metadata": {},
   "outputs": [],
   "source": [
    "def log_kaydet():\n",
    "    log_icerik = text_area.get(\"1.0\", END).strip()\n",
    "    if not log_icerik:\n",
    "        messagebox.showinfo(\"Boş\", \"Kaydedilecek log bulunamadı.\")\n",
    "        return\n",
    "    dosya_yolu = asksaveasfilename(defaultextension=\".txt\", filetypes=[(\"Text Files\", \"*.txt\")])\n",
    "    if dosya_yolu:\n",
    "        with open(dosya_yolu, \"w\", encoding=\"utf-8\") as f:\n",
    "            f.write(log_icerik)\n",
    "        messagebox.showinfo(\"Başarılı\", f\"Log kaydedildi:\\n{dosya_yolu}\")\n"
   ]
  },
  {
   "cell_type": "markdown",
   "id": "c800de48-4f13-429b-a2a0-f479f2a5716a",
   "metadata": {},
   "source": [
    "# 8. Log Temizleme Fonksiyonu"
   ]
  },
  {
   "cell_type": "code",
   "execution_count": 58,
   "id": "304caf18-8dca-4fd9-8900-bb2c48fa4c61",
   "metadata": {},
   "outputs": [],
   "source": [
    "def log_temizle():\n",
    "    cevap = messagebox.askyesno(\"Onay\", \"Tüm log ekranı temizlensin mi?\")\n",
    "    if cevap:\n",
    "        text_area.delete(\"1.0\", END)\n",
    "        messagebox.showinfo(\"Temizlendi\", \"Log ekranı sıfırlandı.\")\n"
   ]
  },
  {
   "cell_type": "markdown",
   "id": "5cdf1734-dcfa-465f-a3f2-1ac8611f4134",
   "metadata": {},
   "source": [
    "# 9. Tkinter Arayüzü (GUI)"
   ]
  },
  {
   "cell_type": "code",
   "execution_count": 63,
   "id": "c940c400-79eb-4b84-b10e-4baa7e743e29",
   "metadata": {},
   "outputs": [],
   "source": [
    "pencere = Tk()\n",
    "pencere.title(\"📁 FileOrbis Simülasyonu: Dosya Paylaşım İzleyici\")\n",
    "pencere.geometry(\"750x450\")\n",
    "\n",
    "status_label = Label(pencere, text=\"📂 İzlenecek klasörü seçin\", fg=\"blue\")\n",
    "status_label.pack(pady=5)\n",
    "\n",
    "Button(pencere, text=\"Klasör Seç\", command=klasor_sec).pack(pady=2)\n",
    "Button(pencere, text=\"İzlemeyi Başlat\", command=lambda: threading.Thread(target=izlemeyi_baslat).start()).pack(pady=2)\n",
    "Button(pencere, text=\"İzlemeyi Durdur\", command=izlemeyi_durdur).pack(pady=2)\n",
    "Button(pencere, text=\"Logları Kaydet\", command=log_kaydet, bg=\"lightgray\").pack(pady=2)\n",
    "Button(pencere, text=\"Logları Temizle\", command=log_temizle, bg=\"lightyellow\").pack(pady=2)\n",
    "\n",
    "Label(pencere, text=\"İzlenecek uzantılar (örn: pdf, docx):\", fg=\"black\").pack()\n",
    "uzanti_entry = Entry(pencere, width=30)\n",
    "uzanti_entry.insert(0, \"pdf,docx\")  # varsayılan örnek uzantılar\n",
    "uzanti_entry.pack(pady=2)\n",
    "\n",
    "scrollbar = Scrollbar(pencere)\n",
    "scrollbar.pack(side=RIGHT, fill=Y)\n",
    "\n",
    "text_area = Text(pencere, yscrollcommand=scrollbar.set)\n",
    "text_area.pack(fill=BOTH, expand=True)\n",
    "scrollbar.config(command=text_area.yview)\n",
    "\n",
    "izlenen_klasor = \"\"\n",
    "observer = None\n",
    "\n",
    "pencere.mainloop()\n"
   ]
  }
 ],
 "metadata": {
  "kernelspec": {
   "display_name": "Python [conda env:base] *",
   "language": "python",
   "name": "conda-base-py"
  },
  "language_info": {
   "codemirror_mode": {
    "name": "ipython",
    "version": 3
   },
   "file_extension": ".py",
   "mimetype": "text/x-python",
   "name": "python",
   "nbconvert_exporter": "python",
   "pygments_lexer": "ipython3",
   "version": "3.12.7"
  }
 },
 "nbformat": 4,
 "nbformat_minor": 5
}
